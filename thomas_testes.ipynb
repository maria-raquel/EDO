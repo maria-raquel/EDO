{
 "cells": [
  {
   "cell_type": "code",
   "execution_count": 28,
   "metadata": {},
   "outputs": [],
   "source": [
    "import numpy as np\n",
    "from warnings import warn"
   ]
  },
  {
   "cell_type": "code",
   "execution_count": 29,
   "metadata": {},
   "outputs": [],
   "source": [
    "A = [[j * i if (j == i or j == i-1 or j == i +1) else 0 for j in range(1, 10) ]for i in range(1, 10)]"
   ]
  },
  {
   "cell_type": "code",
   "execution_count": 30,
   "metadata": {},
   "outputs": [
    {
     "data": {
      "text/plain": [
       "array([[ 1,  2,  0,  0,  0,  0,  0,  0,  0],\n",
       "       [ 2,  4,  6,  0,  0,  0,  0,  0,  0],\n",
       "       [ 0,  6,  9, 12,  0,  0,  0,  0,  0],\n",
       "       [ 0,  0, 12, 16, 20,  0,  0,  0,  0],\n",
       "       [ 0,  0,  0, 20, 25, 30,  0,  0,  0],\n",
       "       [ 0,  0,  0,  0, 30, 36, 42,  0,  0],\n",
       "       [ 0,  0,  0,  0,  0, 42, 49, 56,  0],\n",
       "       [ 0,  0,  0,  0,  0,  0, 56, 64, 72],\n",
       "       [ 0,  0,  0,  0,  0,  0,  0, 72, 81]])"
      ]
     },
     "execution_count": 30,
     "metadata": {},
     "output_type": "execute_result"
    }
   ],
   "source": [
    "A = np.array(A)\n",
    "A"
   ]
  },
  {
   "cell_type": "code",
   "execution_count": 31,
   "metadata": {},
   "outputs": [],
   "source": [
    "def solve_tridiag(A: np.ndarray, b_vec: np.ndarray) -> np.ndarray:\n",
    "    '''\n",
    "    Resolve um sistema tridiagonal da forma Ax = d onde A é uma matriz triagonal\n",
    "    '''\n",
    "    n = len(A)\n",
    "    a = np.array([A[i][i-1] for i in range(1, n)])\n",
    "    b = np.array([A[i][i] for i in range(n)])\n",
    "    c = np.array([A[i][i+1] for i in range(n-1)])\n",
    "\n",
    "    d = np.array([i for i in b_vec], dtype= float) # cópia profunda do vetor b_vec\n",
    "\n",
    "    x = np.zeros(n)\n",
    "\n",
    "    try:\n",
    "        c[0] = c[0] / b[0]\n",
    "        d[0] = d[0] / b[0]\n",
    "    except ZeroDivisionError:\n",
    "        warn(f'Divisão por zero no índice 0 da matriz b')\n",
    "        raise ZeroDivisionError\n",
    "    \n",
    "    \n",
    "    for i in range(1, n-1):\n",
    "        try:\n",
    "            div = (b[i] - a[i-1] * c[i-1])\n",
    "            c[i] = c[i] / div\n",
    "            d[i] = (d[i] - (a[i-1] * d[i-1])) / div\n",
    "            \n",
    "        except ZeroDivisionError:\n",
    "            warn(f'Divisão por zero no índice {i} da matriz b')\n",
    "            raise ZeroDivisionError\n",
    "    \n",
    "    try:\n",
    "        d[n-1] = (d[n-1] - (a[n-2] * d[n-2])) / (b[n-1] - a[n-2] * c[n-2])\n",
    "    \n",
    "    except ZeroDivisionError:\n",
    "        warn(f'Divisão por zero no índice {i} da matriz b')\n",
    "        raise ZeroDivisionError\n",
    "\n",
    "\n",
    "\n",
    "\n",
    "    x[-1] = d[-1]\n",
    "\n",
    "    for i in range(n-2, -1, -1):\n",
    "        x[i] = d[i] - c[i] * x[i+1]\n",
    "    \n",
    "    return x"
   ]
  },
  {
   "cell_type": "code",
   "execution_count": 32,
   "metadata": {},
   "outputs": [],
   "source": [
    "A = np.zeros((5, 5))"
   ]
  },
  {
   "cell_type": "code",
   "execution_count": 33,
   "metadata": {},
   "outputs": [],
   "source": [
    "for i in range(5):\n",
    "    for j in range(5):\n",
    "        if i == j:\n",
    "            A[i][j] = 2\n",
    "        elif abs(i - j) == 1:\n",
    "            A[i][j] = 1"
   ]
  },
  {
   "cell_type": "code",
   "execution_count": 34,
   "metadata": {},
   "outputs": [
    {
     "data": {
      "text/plain": [
       "array([[2., 1., 0., 0., 0.],\n",
       "       [1., 2., 1., 0., 0.],\n",
       "       [0., 1., 2., 1., 0.],\n",
       "       [0., 0., 1., 2., 1.],\n",
       "       [0., 0., 0., 1., 2.]])"
      ]
     },
     "execution_count": 34,
     "metadata": {},
     "output_type": "execute_result"
    }
   ],
   "source": [
    "A"
   ]
  },
  {
   "cell_type": "code",
   "execution_count": 35,
   "metadata": {},
   "outputs": [],
   "source": [
    "result = np.array([4, 4, 0, 0, 2])"
   ]
  },
  {
   "cell_type": "code",
   "execution_count": 36,
   "metadata": {},
   "outputs": [
    {
     "data": {
      "text/plain": [
       "array([ 1.00000000e+00,  2.00000000e+00, -1.00000000e+00, -3.33066907e-16,\n",
       "        1.00000000e+00])"
      ]
     },
     "execution_count": 36,
     "metadata": {},
     "output_type": "execute_result"
    }
   ],
   "source": [
    "solve_tridiag(A, result)"
   ]
  },
  {
   "cell_type": "code",
   "execution_count": 37,
   "metadata": {},
   "outputs": [],
   "source": [
    "A = np.zeros((6, 6))\n",
    "\n",
    "b = np.array([5, 3, 4, 2, 3, 2])\n",
    "a = np.array([1, 2, 1, 2, 1])\n",
    "c = np.array([4, 1, 1, 1, 2])\n",
    "\n",
    "for i in range(6):\n",
    "    for j in range(6):\n",
    "        if i == j:\n",
    "            A[i][j] = b[i]\n",
    "        elif j - 1 == i:\n",
    "            A[i][j] = c[i]\n",
    "        elif i - 1 == j:\n",
    "            A[i][j] = a[i-1]"
   ]
  },
  {
   "cell_type": "code",
   "execution_count": 38,
   "metadata": {},
   "outputs": [
    {
     "data": {
      "text/plain": [
       "array([[5., 4., 0., 0., 0., 0.],\n",
       "       [1., 3., 1., 0., 0., 0.],\n",
       "       [0., 2., 4., 1., 0., 0.],\n",
       "       [0., 0., 1., 2., 1., 0.],\n",
       "       [0., 0., 0., 2., 3., 2.],\n",
       "       [0., 0., 0., 0., 1., 2.]])"
      ]
     },
     "execution_count": 38,
     "metadata": {},
     "output_type": "execute_result"
    }
   ],
   "source": [
    "A"
   ]
  },
  {
   "cell_type": "code",
   "execution_count": 39,
   "metadata": {},
   "outputs": [],
   "source": [
    "result = np.array([13, 10, 20, 16, 35, 17])"
   ]
  },
  {
   "cell_type": "code",
   "execution_count": 40,
   "metadata": {},
   "outputs": [
    {
     "data": {
      "text/plain": [
       "array([13, 10, 20, 16, 35, 17])"
      ]
     },
     "execution_count": 40,
     "metadata": {},
     "output_type": "execute_result"
    }
   ],
   "source": [
    "result"
   ]
  },
  {
   "cell_type": "code",
   "execution_count": 41,
   "metadata": {},
   "outputs": [
    {
     "data": {
      "text/plain": [
       "array([1., 2., 3., 4., 5., 6.])"
      ]
     },
     "execution_count": 41,
     "metadata": {},
     "output_type": "execute_result"
    }
   ],
   "source": [
    "solve_tridiag(A, result)"
   ]
  }
 ],
 "metadata": {
  "kernelspec": {
   "display_name": "base",
   "language": "python",
   "name": "python3"
  },
  "language_info": {
   "codemirror_mode": {
    "name": "ipython",
    "version": 3
   },
   "file_extension": ".py",
   "mimetype": "text/x-python",
   "name": "python",
   "nbconvert_exporter": "python",
   "pygments_lexer": "ipython3",
   "version": "3.10.9"
  },
  "orig_nbformat": 4
 },
 "nbformat": 4,
 "nbformat_minor": 2
}
