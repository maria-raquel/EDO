{
 "cells": [
  {
   "cell_type": "code",
   "execution_count": 2,
   "metadata": {},
   "outputs": [],
   "source": [
    "import pvi_q1 as p\n",
    "import numpy as np"
   ]
  },
  {
   "cell_type": "code",
   "execution_count": 3,
   "metadata": {},
   "outputs": [],
   "source": [
    "# Os parâmetros são, em ordem:\n",
    "# ponto inicial, passo, domínio, e a equação\n",
    "\n",
    "ex1 = p.pvi((0,2), 0.01, (0,0.5), \"-2 * (x**2) * (y**2)\")\n",
    "ex2 = p.pvi((1,1), 0.01, (1,1.5), \"3 * (x**2) * y\")\n",
    "ex3 = p.pvi((0,1), 0.01, (0,0.5), \"-2 * x * y**3\")\n",
    "ex4 = p.pvi((0,1), 0.01, (0,0.5), \"np.cos(x) * y\")\n",
    "ex5 = p.pvi((0,0), 0.01, (0,0.5), \"np.sin(x) - y\")"
   ]
  }
 ],
 "metadata": {
  "kernelspec": {
   "display_name": "Python 3",
   "language": "python",
   "name": "python3"
  },
  "language_info": {
   "codemirror_mode": {
    "name": "ipython",
    "version": 3
   },
   "file_extension": ".py",
   "mimetype": "text/x-python",
   "name": "python",
   "nbconvert_exporter": "python",
   "pygments_lexer": "ipython3",
   "version": "3.8.10"
  },
  "orig_nbformat": 4
 },
 "nbformat": 4,
 "nbformat_minor": 2
}
