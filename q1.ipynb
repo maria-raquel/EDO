{
 "cells": [
  {
   "cell_type": "code",
   "execution_count": 1,
   "metadata": {},
   "outputs": [],
   "source": [
    "import numpy as np"
   ]
  },
  {
   "cell_type": "code",
   "execution_count": 20,
   "metadata": {},
   "outputs": [],
   "source": [
    "class pvi:\n",
    "\n",
    "    # ponto inicial: tupla, representa (x0, y0). ex: (0,0)\n",
    "    # passo: float\n",
    "    # intervalo: tupla, representa (x0, xn). ex: (0)\n",
    "        # x0 no intervalo deve corresponder a x0 do ponto inicial\n",
    "        # se não corresponderem, será considerado x0 passado no ponto inicial\n",
    "    # equacao: string, representa a equacao. ex: 'x**2 + y**2', 'np.sin(x)'\n",
    "        # deve ser usadas as variáveis x e y na notação\n",
    "\n",
    "    def __init__(self, ponto_inicial, passo, intervalo, equacao):\n",
    "        self.x0, self.y0 = ponto_inicial\n",
    "        self.h = passo\n",
    "        self.xn = intervalo[1]\n",
    "        self.equacao = equacao\n",
    "\n",
    "        if self.x0 != intervalo[0]:\n",
    "            print(\"Verifique o ponto inicial e o intervalo de integração.\")\n",
    "\n",
    "    def __str__(self):\n",
    "        string = f\"ponto inicial: ({self.x0}, {self.y0})\\n\"\n",
    "        string += f\"passo: {self.h}\\n\"\n",
    "        string += f\"intervalo: ({self.x0}, {self.xn})\\n\"\n",
    "        string += f\"equacao: {self.equacao}\"\n",
    "        return string\n",
    "    \n",
    "    def __repr__(self):\n",
    "        return self.__str__()"
   ]
  },
  {
   "cell_type": "code",
   "execution_count": 26,
   "metadata": {},
   "outputs": [],
   "source": [
    "# Resolve o PVI com o método de Euler\n",
    "# Retorna uma lista de pontos da função\n",
    "\n",
    "def euler(pvi):\n",
    "    x = pvi.x0\n",
    "    y = pvi.y0\n",
    "    h = pvi.h\n",
    "    xn = pvi.xn\n",
    "    equacao = pvi.equacao\n",
    "    pontos = [(pvi.x0, pvi.y0)]\n",
    "\n",
    "    while x <= xn:\n",
    "        y = y + h*eval(equacao)\n",
    "        x = x + h\n",
    "        pontos.append((x,y))\n",
    "    \n",
    "    return pontos"
   ]
  },
  {
   "cell_type": "code",
   "execution_count": 27,
   "metadata": {},
   "outputs": [
    {
     "name": "stdout",
     "output_type": "stream",
     "text": [
      "[(0, 2), (0.1, 2.0), (0.2, 1.992), (0.30000000000000004, 1.960255488)]\n"
     ]
    }
   ],
   "source": [
    "pi_ex = (0,2)\n",
    "h_ex = 0.1\n",
    "inter_ex = (0, 0.3)\n",
    "eq_ex = '-2*(x**2)*y**2'\n",
    "\n",
    "pvi_ex = pvi(pi_ex, h_ex, inter_ex, eq_ex)\n",
    "print(euler(pvi_ex))"
   ]
  }
 ],
 "metadata": {
  "kernelspec": {
   "display_name": "Python 3",
   "language": "python",
   "name": "python3"
  },
  "language_info": {
   "codemirror_mode": {
    "name": "ipython",
    "version": 3
   },
   "file_extension": ".py",
   "mimetype": "text/x-python",
   "name": "python",
   "nbconvert_exporter": "python",
   "pygments_lexer": "ipython3",
   "version": "3.8.10"
  },
  "orig_nbformat": 4
 },
 "nbformat": 4,
 "nbformat_minor": 2
}
