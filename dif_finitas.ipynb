{
 "cells": [
  {
   "attachments": {},
   "cell_type": "markdown",
   "metadata": {},
   "source": [
    "y'' = p(x)y' + q(x)y + r(x)\n",
    "\n",
    "ex: y'' = (x/3)y' - y + 6x - 1"
   ]
  },
  {
   "cell_type": "code",
   "execution_count": 1,
   "metadata": {},
   "outputs": [],
   "source": [
    "import numpy as np"
   ]
  },
  {
   "cell_type": "code",
   "execution_count": 2,
   "metadata": {},
   "outputs": [],
   "source": [
    "def p(x):\n",
    "    return x/3\n",
    "\n",
    "def q(x):\n",
    "    return -1\n",
    "\n",
    "def r(x):\n",
    "    return 6*x-1"
   ]
  },
  {
   "cell_type": "code",
   "execution_count": 10,
   "metadata": {},
   "outputs": [],
   "source": [
    "# x0: x inicial\n",
    "# y0: y inicial\n",
    "# xf: x final\n",
    "# yf: y final\n",
    "# N: numero de subintervalos\n",
    "def diferencas_finitas(x0,y0,xf,yf,N):\n",
    "\n",
    "    delta_x = (xf-x0)/N\n",
    "\n",
    "    # np.linspace cria um vetor com N-1 pontos igualmente espaçados entre x0 + delta_x e xf - delta_x\n",
    "    vetor_x = np.linspace(x0 + delta_x, xf - delta_x, N-1)\n",
    "\n",
    "    dimencao = N-1\n",
    "\n",
    "    A = np.zeros((dimencao,dimencao))\n",
    "    b = np.zeros(dimencao)\n",
    "\n",
    "    # Preenchendo a matriz A\n",
    "    for i in range(dimencao):\n",
    "        x = vetor_x[i]\n",
    "        for j in range(dimencao):\n",
    "\n",
    "            if i == j: # diagonal principal\n",
    "                A[i][j] = 2 + q(x)*(delta_x**2)\n",
    "\n",
    "            elif i == j+1: # diagonal inferior\n",
    "                A[i][j] = -1 - p(x)*delta_x/2\n",
    "            \n",
    "            elif i == j-1: # diagonal superior\n",
    "                A[i][j] = -1 + p(x)*delta_x/2\n",
    "\n",
    "            # os elementos fora dessas diagonais permanecem nulos\n",
    "    \n",
    "    # Preenchendo o vetor b\n",
    "    for i in range(dimencao):\n",
    "        x = vetor_x[i]\n",
    "        if i == 0: # primeira linha\n",
    "            b[i] = (1 + p(x)*delta_x/2)*y0 - r(x)*delta_x**2\n",
    "        \n",
    "        elif i == dimencao-1: # ultima linha\n",
    "            b[i] = (1 - p(x)*delta_x/2)*yf - r(x)*delta_x**2\n",
    "        \n",
    "        else: # demais elementos\n",
    "            b[i] = -r(x)*delta_x**2\n",
    "    \n",
    "    # TROCAR ISSO AQUI PELO THOMAS\n",
    "    y = np.linalg.solve(A,b)\n",
    "\n",
    "    return y"
   ]
  },
  {
   "cell_type": "code",
   "execution_count": 11,
   "metadata": {},
   "outputs": [
    {
     "data": {
      "text/plain": [
       "array([-0.98529412, -0.87647059, -0.57941176])"
      ]
     },
     "execution_count": 11,
     "metadata": {},
     "output_type": "execute_result"
    }
   ],
   "source": [
    "y = diferencas_finitas(0,-1,1,0,4)\n",
    "y"
   ]
  }
 ],
 "metadata": {
  "kernelspec": {
   "display_name": "Python 3",
   "language": "python",
   "name": "python3"
  },
  "language_info": {
   "codemirror_mode": {
    "name": "ipython",
    "version": 3
   },
   "file_extension": ".py",
   "mimetype": "text/x-python",
   "name": "python",
   "nbconvert_exporter": "python",
   "pygments_lexer": "ipython3",
   "version": "3.8.10"
  },
  "orig_nbformat": 4
 },
 "nbformat": 4,
 "nbformat_minor": 2
}
