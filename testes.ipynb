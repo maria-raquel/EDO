{
 "cells": [
  {
   "cell_type": "code",
   "execution_count": 2,
   "metadata": {},
   "outputs": [],
   "source": [
    "import pvi_q1 as p\n",
    "import numpy as np"
   ]
  },
  {
   "attachments": {},
   "cell_type": "markdown",
   "metadata": {},
   "source": [
    "#### Testando o método de Euler\n",
    "\n",
    "Teste 1"
   ]
  },
  {
   "cell_type": "code",
   "execution_count": 3,
   "metadata": {},
   "outputs": [
    {
     "data": {
      "text/plain": [
       "[(0, 2),\n",
       " (0.1, 2.0),\n",
       " (0.2, 1.992),\n",
       " (0.30000000000000004, 1.960255488),\n",
       " (0.4, 1.891088659591786),\n",
       " (0.5, 1.7766497374018129)]"
      ]
     },
     "execution_count": 3,
     "metadata": {},
     "output_type": "execute_result"
    }
   ],
   "source": [
    "ex1 = p.pvi((0,2), 0.1, (0,0.5), \"-2 * (x**2) * (y**2)\")\n",
    "\n",
    "''' vs '''\n",
    "\n",
    "x0, y0 = (0,2)\n",
    "\n",
    "pontos = [(x0,y0)]\n",
    "\n",
    "y1 = y0 + 0.1 * (-2) * (x0**2) * (y0**2)\n",
    "x1 = x0 + 0.1\n",
    "pontos.append((x1,y1))\n",
    "\n",
    "y2 = y1 + 0.1 * (-2) * (x1**2) * (y1**2)\n",
    "x2 = x1 + 0.1\n",
    "pontos.append((x2,y2))\n",
    "\n",
    "y3 = y2 + 0.1 * (-2) * (x2**2) * (y2**2)\n",
    "x3 = x2 + 0.1\n",
    "pontos.append((x3,y3))\n",
    "\n",
    "y4 = y3 + 0.1 * (-2) * (x3**2) * (y3**2)\n",
    "x4 = x3 + 0.1\n",
    "pontos.append((x4,y4))\n",
    "\n",
    "y5 = y4 + 0.1 * (-2) * (x4**2) * (y4**2)\n",
    "x5 = x4 + 0.1\n",
    "pontos.append((x5,y5))\n",
    "\n",
    "for x, y in pontos:\n",
    "    x, y = (round(x, 4), round(y, 4))\n",
    "\n",
    "pontos"
   ]
  },
  {
   "cell_type": "code",
   "execution_count": 4,
   "metadata": {},
   "outputs": [
    {
     "data": {
      "text/plain": [
       "[(0, 2),\n",
       " (0.1, 2.0),\n",
       " (0.2, 1.992),\n",
       " (0.3, 1.96026),\n",
       " (0.4, 1.89109),\n",
       " (0.5, 1.77665),\n",
       " (0.6, 1.61883)]"
      ]
     },
     "execution_count": 4,
     "metadata": {},
     "output_type": "execute_result"
    }
   ],
   "source": [
    "ex1.euler()\n",
    "ex1.pontos"
   ]
  },
  {
   "attachments": {},
   "cell_type": "markdown",
   "metadata": {},
   "source": [
    "OK\n",
    "\n",
    "--------------\n",
    "\n",
    "Teste 2"
   ]
  },
  {
   "cell_type": "code",
   "execution_count": 5,
   "metadata": {},
   "outputs": [
    {
     "data": {
      "text/plain": [
       "[(1, 1),\n",
       " (1.1, 1.3),\n",
       " (1.2000000000000002, 1.7719000000000003),\n",
       " (1.3000000000000003, 2.5373608000000005),\n",
       " (1.4000000000000004, 3.823802725600001),\n",
       " (1.5000000000000004, 6.072198728252803)]"
      ]
     },
     "execution_count": 5,
     "metadata": {},
     "output_type": "execute_result"
    }
   ],
   "source": [
    "ex2 = p.pvi((1,1), 0.1, (1,1.5), \"3 * (x**2) * y\")\n",
    "\n",
    "''' vs '''\n",
    "\n",
    "x0, y0 = (1,1)\n",
    "\n",
    "pontos = [(x0,y0)]\n",
    "\n",
    "y1 = y0 + 0.1 * 3 * (x0**2) * y0\n",
    "x1 = x0 + 0.1\n",
    "pontos.append((x1,y1))\n",
    "\n",
    "y2 = y1 + 0.1 * 3 * (x1**2) * y1\n",
    "x2 = x1 + 0.1\n",
    "pontos.append((x2,y2))\n",
    "\n",
    "y3 = y2 + 0.1 * 3 * (x2**2) * y2\n",
    "x3 = x2 + 0.1\n",
    "pontos.append((x3,y3))\n",
    "\n",
    "y4 = y3 + 0.1 * 3 * (x3**2) * y3\n",
    "x4 = x3 + 0.1\n",
    "pontos.append((x4,y4))\n",
    "\n",
    "y5 = y4 + 0.1 * 3 * (x4**2) * y4\n",
    "x5 = x4 + 0.1\n",
    "pontos.append((x5,y5))\n",
    "\n",
    "pontos"
   ]
  },
  {
   "cell_type": "code",
   "execution_count": 6,
   "metadata": {},
   "outputs": [
    {
     "data": {
      "text/plain": [
       "[(1, 1),\n",
       " (1.1, 1.3),\n",
       " (1.2, 1.7719),\n",
       " (1.3, 2.53736),\n",
       " (1.4, 3.8238),\n",
       " (1.5, 6.07219),\n",
       " (1.6, 10.17092)]"
      ]
     },
     "execution_count": 6,
     "metadata": {},
     "output_type": "execute_result"
    }
   ],
   "source": [
    "ex2.euler()\n",
    "ex2.pontos"
   ]
  },
  {
   "attachments": {},
   "cell_type": "markdown",
   "metadata": {},
   "source": [
    "OK\n",
    "\n",
    "--------------\n",
    "\n",
    "Teste 3"
   ]
  },
  {
   "cell_type": "code",
   "execution_count": 7,
   "metadata": {},
   "outputs": [
    {
     "data": {
      "text/plain": [
       "[(0, 1),\n",
       " (0.1, 1.0),\n",
       " (0.2, 0.98),\n",
       " (0.30000000000000004, 0.94235232),\n",
       " (0.4, 0.8921422111747915),\n",
       " (0.5, 0.8353364672500806)]"
      ]
     },
     "execution_count": 7,
     "metadata": {},
     "output_type": "execute_result"
    }
   ],
   "source": [
    "ex3 = p.pvi((0,1), 0.1, (0,0.5), \"-2 * x * y**3\")\n",
    "\n",
    "''' vs '''\n",
    "\n",
    "x0, y0 = (0,1)\n",
    "\n",
    "pontos = [(x0,y0)]\n",
    "\n",
    "y1 = y0 + 0.1 * (-2) * x0 * y0**3\n",
    "x1 = x0 + 0.1\n",
    "pontos.append((x1,y1))\n",
    "\n",
    "y2 = y1 + 0.1 * (-2) * x1 * y1**3\n",
    "x2 = x1 + 0.1\n",
    "pontos.append((x2,y2))\n",
    "\n",
    "y3 = y2 + 0.1 * (-2) * x2 * y2**3\n",
    "x3 = x2 + 0.1\n",
    "pontos.append((x3,y3))\n",
    "\n",
    "y4 = y3 + 0.1 * (-2) * x3 * y3**3\n",
    "x4 = x3 + 0.1\n",
    "pontos.append((x4,y4))\n",
    "\n",
    "y5 = y4 + 0.1 * (-2) * x4 * y4**3\n",
    "x5 = x4 + 0.1\n",
    "pontos.append((x5,y5))\n",
    "\n",
    "pontos"
   ]
  },
  {
   "cell_type": "code",
   "execution_count": 8,
   "metadata": {},
   "outputs": [
    {
     "data": {
      "text/plain": [
       "[(0, 1),\n",
       " (0.1, 1.0),\n",
       " (0.2, 0.98),\n",
       " (0.3, 0.94235),\n",
       " (0.4, 0.89214),\n",
       " (0.5, 0.83533),\n",
       " (0.6, 0.77704)]"
      ]
     },
     "execution_count": 8,
     "metadata": {},
     "output_type": "execute_result"
    }
   ],
   "source": [
    "ex3.euler()\n",
    "ex3.pontos"
   ]
  },
  {
   "attachments": {},
   "cell_type": "markdown",
   "metadata": {},
   "source": [
    "OK\n",
    "\n",
    "--------------\n",
    "\n",
    "Teste 4"
   ]
  },
  {
   "cell_type": "code",
   "execution_count": 9,
   "metadata": {},
   "outputs": [
    {
     "data": {
      "text/plain": [
       "[(0, 1),\n",
       " (0.1, 1.1),\n",
       " (0.2, 1.209450458180583),\n",
       " (0.30000000000000004, 1.3279846553423396),\n",
       " (0.4, 1.4548518751670825),\n",
       " (0.5, 1.588852606593918)]"
      ]
     },
     "execution_count": 9,
     "metadata": {},
     "output_type": "execute_result"
    }
   ],
   "source": [
    "ex4 = p.pvi((0,1), 0.1, (0,0.5), \"np.cos(x) * y\")\n",
    "\n",
    "''' vs '''\n",
    "\n",
    "x0, y0 = (0,1)\n",
    "\n",
    "pontos = [(x0,y0)]\n",
    "\n",
    "y1 = y0 + 0.1 * np.cos(x0) * y0\n",
    "x1 = x0 + 0.1\n",
    "pontos.append((x1,y1))\n",
    "\n",
    "y2 = y1 + 0.1 * np.cos(x1) * y1\n",
    "x2 = x1 + 0.1\n",
    "pontos.append((x2,y2))\n",
    "\n",
    "y3 = y2 + 0.1 * np.cos(x2) * y2\n",
    "x3 = x2 + 0.1\n",
    "pontos.append((x3,y3))\n",
    "\n",
    "y4 = y3 + 0.1 * np.cos(x3) * y3\n",
    "x4 = x3 + 0.1\n",
    "pontos.append((x4,y4))\n",
    "\n",
    "y5 = y4 + 0.1 * np.cos(x4) * y4\n",
    "x5 = x4 + 0.1\n",
    "pontos.append((x5,y5))\n",
    "\n",
    "pontos"
   ]
  },
  {
   "cell_type": "code",
   "execution_count": 10,
   "metadata": {},
   "outputs": [
    {
     "data": {
      "text/plain": [
       "[(0, 1),\n",
       " (0.1, 1.1),\n",
       " (0.2, 1.20945),\n",
       " (0.3, 1.32798),\n",
       " (0.4, 1.45485),\n",
       " (0.5, 1.58885),\n",
       " (0.6, 1.72828)]"
      ]
     },
     "execution_count": 10,
     "metadata": {},
     "output_type": "execute_result"
    }
   ],
   "source": [
    "ex4.euler()\n",
    "ex4.pontos"
   ]
  },
  {
   "attachments": {},
   "cell_type": "markdown",
   "metadata": {},
   "source": [
    "OK\n",
    "\n",
    "--------------\n",
    "\n",
    "Teste 5"
   ]
  },
  {
   "cell_type": "code",
   "execution_count": 11,
   "metadata": {},
   "outputs": [
    {
     "data": {
      "text/plain": [
       "[(0, 0),\n",
       " (0.1, 0.0),\n",
       " (0.2, 0.009983341664682815),\n",
       " (0.30000000000000004, 0.028851940577720656),\n",
       " (0.4, 0.05551876718608255),\n",
       " (0.5, 0.08890872469833935)]"
      ]
     },
     "execution_count": 11,
     "metadata": {},
     "output_type": "execute_result"
    }
   ],
   "source": [
    "ex5 = p.pvi((0,0), 0.1, (0,0.5), \"np.sin(x) - y\")\n",
    "\n",
    "''' vs '''\n",
    "\n",
    "x0, y0 = (0,0)\n",
    "\n",
    "pontos = [(x0,y0)]\n",
    "\n",
    "y1 = y0 + 0.1 * (np.sin(x0) - y0)\n",
    "x1 = x0 + 0.1\n",
    "pontos.append((x1,y1))\n",
    "\n",
    "y2 = y1 + 0.1 * (np.sin(x1) - y1)\n",
    "x2 = x1 + 0.1\n",
    "pontos.append((x2,y2))\n",
    "\n",
    "y3 = y2 + 0.1 * (np.sin(x2) - y2)\n",
    "x3 = x2 + 0.1\n",
    "pontos.append((x3,y3))\n",
    "\n",
    "y4 = y3 + 0.1 * (np.sin(x3) - y3)\n",
    "x4 = x3 + 0.1\n",
    "pontos.append((x4,y4))\n",
    "\n",
    "y5 = y4 + 0.1 * (np.sin(x4) - y4)\n",
    "x5 = x4 + 0.1\n",
    "pontos.append((x5,y5))\n",
    "\n",
    "pontos"
   ]
  },
  {
   "cell_type": "code",
   "execution_count": 12,
   "metadata": {},
   "outputs": [
    {
     "data": {
      "text/plain": [
       "[(0, 0),\n",
       " (0.1, 0.0),\n",
       " (0.2, 0.00998),\n",
       " (0.3, 0.02885),\n",
       " (0.4, 0.05552),\n",
       " (0.5, 0.08891),\n",
       " (0.6, 0.12796)]"
      ]
     },
     "execution_count": 12,
     "metadata": {},
     "output_type": "execute_result"
    }
   ],
   "source": [
    "ex5.euler()\n",
    "ex5.pontos"
   ]
  },
  {
   "attachments": {},
   "cell_type": "markdown",
   "metadata": {},
   "source": [
    "OK\n",
    "\n",
    "--------------\n",
    "\n",
    "#### Testando o método de Euler\n",
    "\n",
    "Teste 1"
   ]
  },
  {
   "cell_type": "code",
   "execution_count": 15,
   "metadata": {},
   "outputs": [
    {
     "data": {
      "text/plain": [
       "[(0, 2),\n",
       " (0.1, 1.99734),\n",
       " (0.2, 1.97889),\n",
       " (0.3, 1.9305),\n",
       " (0.4, 1.84275),\n",
       " (0.5, 1.71428),\n",
       " (0.6, 1.55279)]"
      ]
     },
     "execution_count": 15,
     "metadata": {},
     "output_type": "execute_result"
    }
   ],
   "source": [
    "ex1.rg4()\n",
    "ex1.pontos"
   ]
  },
  {
   "cell_type": "code",
   "execution_count": 27,
   "metadata": {},
   "outputs": [
    {
     "data": {
      "text/plain": [
       "[(0, 2),\n",
       " (0.1, 1.99734),\n",
       " (0.2, 1.97889),\n",
       " (0.3, 1.9305),\n",
       " (0.4, 1.84275),\n",
       " (0.5, 1.71428),\n",
       " (0.6, 1.55279)]"
      ]
     },
     "execution_count": 27,
     "metadata": {},
     "output_type": "execute_result"
    }
   ],
   "source": [
    "x0,y0 = (0,2)\n",
    "x, y = (0,2)\n",
    "\n",
    "pontos = [(0,2)]\n",
    "\n",
    "while x <= 0.5:\n",
    "    k1 = (-2) * (x0**2) * (y0**2)\n",
    "    k2 = (-2) * ((x0 + 0.05)**2) * ((y0 + 0.05*k1)**2)\n",
    "    k3 = (-2) * ((x0 + 0.05)**2) * ((y0 + 0.05*k2)**2)\n",
    "    k4 = (-2) * ((x0 + 0.1)**2) * ((y0 + 0.1*k3)**2)\n",
    "    y = y0 + (0.1/6) * (k1 + 2*k2 + 2*k3 + k4)\n",
    "    x = x0 + 0.1\n",
    "    pontos.append((round(x, 5), round(y, 5)))\n",
    "    x0 = x\n",
    "    y0 = y\n",
    "pontos"
   ]
  },
  {
   "cell_type": "code",
   "execution_count": 16,
   "metadata": {},
   "outputs": [
    {
     "data": {
      "text/plain": [
       "ponto inicial: (0, 2)\n",
       "passo: 0.1\n",
       "intervalo: (0, 0.5)\n",
       "equacao: -2 * (x**2) * (y**2)"
      ]
     },
     "execution_count": 16,
     "metadata": {},
     "output_type": "execute_result"
    }
   ],
   "source": [
    "ex1"
   ]
  }
 ],
 "metadata": {
  "kernelspec": {
   "display_name": "Python 3",
   "language": "python",
   "name": "python3"
  },
  "language_info": {
   "codemirror_mode": {
    "name": "ipython",
    "version": 3
   },
   "file_extension": ".py",
   "mimetype": "text/x-python",
   "name": "python",
   "nbconvert_exporter": "python",
   "pygments_lexer": "ipython3",
   "version": "3.8.10"
  },
  "orig_nbformat": 4,
  "vscode": {
   "interpreter": {
    "hash": "916dbcbb3f70747c44a77c7bcd40155683ae19c65e1c03b4aa3499c5328201f1"
   }
  }
 },
 "nbformat": 4,
 "nbformat_minor": 2
}
