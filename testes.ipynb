{
 "cells": [
  {
   "cell_type": "code",
   "execution_count": 1,
   "metadata": {},
   "outputs": [],
   "source": [
    "import pvi_q1 as p\n",
    "import numpy as np"
   ]
  },
  {
   "attachments": {},
   "cell_type": "markdown",
   "metadata": {},
   "source": [
    "#### Testando o método de Euler\n",
    "\n",
    "Teste 1"
   ]
  },
  {
   "cell_type": "code",
   "execution_count": 2,
   "metadata": {},
   "outputs": [
    {
     "data": {
      "text/plain": [
       "[(0, 2),\n",
       " (0.1, 2.0),\n",
       " (0.2, 1.992),\n",
       " (0.30000000000000004, 1.960255488),\n",
       " (0.4, 1.891088659591786),\n",
       " (0.5, 1.7766497374018129)]"
      ]
     },
     "execution_count": 2,
     "metadata": {},
     "output_type": "execute_result"
    }
   ],
   "source": [
    "ex1 = p.pvi((0,2), 0.1, (0,0.5), \"-2 * (x**2) * (y**2)\")\n",
    "\n",
    "''' vs '''\n",
    "\n",
    "x0, y0 = (0,2)\n",
    "\n",
    "pontos = [(x0,y0)]\n",
    "\n",
    "y1 = y0 + 0.1 * (-2) * (x0**2) * (y0**2)\n",
    "x1 = x0 + 0.1\n",
    "pontos.append((x1,y1))\n",
    "\n",
    "y2 = y1 + 0.1 * (-2) * (x1**2) * (y1**2)\n",
    "x2 = x1 + 0.1\n",
    "pontos.append((x2,y2))\n",
    "\n",
    "y3 = y2 + 0.1 * (-2) * (x2**2) * (y2**2)\n",
    "x3 = x2 + 0.1\n",
    "pontos.append((x3,y3))\n",
    "\n",
    "y4 = y3 + 0.1 * (-2) * (x3**2) * (y3**2)\n",
    "x4 = x3 + 0.1\n",
    "pontos.append((x4,y4))\n",
    "\n",
    "y5 = y4 + 0.1 * (-2) * (x4**2) * (y4**2)\n",
    "x5 = x4 + 0.1\n",
    "pontos.append((x5,y5))\n",
    "\n",
    "for x, y in pontos:\n",
    "    x, y = (round(x, 4), round(y, 4))\n",
    "\n",
    "pontos"
   ]
  },
  {
   "cell_type": "code",
   "execution_count": 3,
   "metadata": {},
   "outputs": [
    {
     "data": {
      "text/plain": [
       "[(0, 2),\n",
       " (0.1, 2.0),\n",
       " (0.2, 1.992),\n",
       " (0.3, 1.96026),\n",
       " (0.4, 1.89109),\n",
       " (0.5, 1.77665)]"
      ]
     },
     "execution_count": 3,
     "metadata": {},
     "output_type": "execute_result"
    }
   ],
   "source": [
    "ex1.euler()\n",
    "ex1.pontos"
   ]
  },
  {
   "attachments": {},
   "cell_type": "markdown",
   "metadata": {},
   "source": [
    "OK\n",
    "\n",
    "--------------\n",
    "\n",
    "Teste 2"
   ]
  },
  {
   "cell_type": "code",
   "execution_count": 4,
   "metadata": {},
   "outputs": [
    {
     "data": {
      "text/plain": [
       "[(1, 1),\n",
       " (1.1, 1.3),\n",
       " (1.2000000000000002, 1.7719000000000003),\n",
       " (1.3000000000000003, 2.5373608000000005),\n",
       " (1.4000000000000004, 3.823802725600001),\n",
       " (1.5000000000000004, 6.072198728252803)]"
      ]
     },
     "execution_count": 4,
     "metadata": {},
     "output_type": "execute_result"
    }
   ],
   "source": [
    "ex2 = p.pvi((1,1), 0.1, (1,1.5), \"3 * (x**2) * y\")\n",
    "\n",
    "''' vs '''\n",
    "\n",
    "x0, y0 = (1,1)\n",
    "\n",
    "pontos = [(x0,y0)]\n",
    "\n",
    "y1 = y0 + 0.1 * 3 * (x0**2) * y0\n",
    "x1 = x0 + 0.1\n",
    "pontos.append((x1,y1))\n",
    "\n",
    "y2 = y1 + 0.1 * 3 * (x1**2) * y1\n",
    "x2 = x1 + 0.1\n",
    "pontos.append((x2,y2))\n",
    "\n",
    "y3 = y2 + 0.1 * 3 * (x2**2) * y2\n",
    "x3 = x2 + 0.1\n",
    "pontos.append((x3,y3))\n",
    "\n",
    "y4 = y3 + 0.1 * 3 * (x3**2) * y3\n",
    "x4 = x3 + 0.1\n",
    "pontos.append((x4,y4))\n",
    "\n",
    "y5 = y4 + 0.1 * 3 * (x4**2) * y4\n",
    "x5 = x4 + 0.1\n",
    "pontos.append((x5,y5))\n",
    "\n",
    "pontos"
   ]
  },
  {
   "cell_type": "code",
   "execution_count": 5,
   "metadata": {},
   "outputs": [
    {
     "data": {
      "text/plain": [
       "[(1, 1),\n",
       " (1.1, 1.3),\n",
       " (1.2, 1.7719),\n",
       " (1.3, 2.53736),\n",
       " (1.4, 3.8238),\n",
       " (1.5, 6.07219)]"
      ]
     },
     "execution_count": 5,
     "metadata": {},
     "output_type": "execute_result"
    }
   ],
   "source": [
    "ex2.euler()\n",
    "ex2.pontos"
   ]
  },
  {
   "attachments": {},
   "cell_type": "markdown",
   "metadata": {},
   "source": [
    "OK\n",
    "\n",
    "--------------\n",
    "\n",
    "Teste 3"
   ]
  },
  {
   "cell_type": "code",
   "execution_count": 6,
   "metadata": {},
   "outputs": [
    {
     "data": {
      "text/plain": [
       "[(0, 1),\n",
       " (0.1, 1.0),\n",
       " (0.2, 0.98),\n",
       " (0.30000000000000004, 0.94235232),\n",
       " (0.4, 0.8921422111747915),\n",
       " (0.5, 0.8353364672500806)]"
      ]
     },
     "execution_count": 6,
     "metadata": {},
     "output_type": "execute_result"
    }
   ],
   "source": [
    "ex3 = p.pvi((0,1), 0.1, (0,0.5), \"-2 * x * y**3\")\n",
    "\n",
    "''' vs '''\n",
    "\n",
    "x0, y0 = (0,1)\n",
    "\n",
    "pontos = [(x0,y0)]\n",
    "\n",
    "y1 = y0 + 0.1 * (-2) * x0 * y0**3\n",
    "x1 = x0 + 0.1\n",
    "pontos.append((x1,y1))\n",
    "\n",
    "y2 = y1 + 0.1 * (-2) * x1 * y1**3\n",
    "x2 = x1 + 0.1\n",
    "pontos.append((x2,y2))\n",
    "\n",
    "y3 = y2 + 0.1 * (-2) * x2 * y2**3\n",
    "x3 = x2 + 0.1\n",
    "pontos.append((x3,y3))\n",
    "\n",
    "y4 = y3 + 0.1 * (-2) * x3 * y3**3\n",
    "x4 = x3 + 0.1\n",
    "pontos.append((x4,y4))\n",
    "\n",
    "y5 = y4 + 0.1 * (-2) * x4 * y4**3\n",
    "x5 = x4 + 0.1\n",
    "pontos.append((x5,y5))\n",
    "\n",
    "pontos"
   ]
  },
  {
   "cell_type": "code",
   "execution_count": 7,
   "metadata": {},
   "outputs": [
    {
     "data": {
      "text/plain": [
       "[(0, 1),\n",
       " (0.1, 1.0),\n",
       " (0.2, 0.98),\n",
       " (0.3, 0.94235),\n",
       " (0.4, 0.89214),\n",
       " (0.5, 0.83533)]"
      ]
     },
     "execution_count": 7,
     "metadata": {},
     "output_type": "execute_result"
    }
   ],
   "source": [
    "ex3.euler()\n",
    "ex3.pontos"
   ]
  },
  {
   "attachments": {},
   "cell_type": "markdown",
   "metadata": {},
   "source": [
    "OK\n",
    "\n",
    "--------------\n",
    "\n",
    "Teste 4"
   ]
  },
  {
   "cell_type": "code",
   "execution_count": 8,
   "metadata": {},
   "outputs": [
    {
     "data": {
      "text/plain": [
       "[(0, 1),\n",
       " (0.1, 1.1),\n",
       " (0.2, 1.209450458180583),\n",
       " (0.30000000000000004, 1.3279846553423396),\n",
       " (0.4, 1.4548518751670825),\n",
       " (0.5, 1.588852606593918)]"
      ]
     },
     "execution_count": 8,
     "metadata": {},
     "output_type": "execute_result"
    }
   ],
   "source": [
    "ex4 = p.pvi((0,1), 0.01, (0,0.5), \"np.cos(x) * y\")\n",
    "\n",
    "''' vs '''\n",
    "\n",
    "x0, y0 = (0,1)\n",
    "\n",
    "pontos = [(x0,y0)]\n",
    "\n",
    "y1 = y0 + 0.1 * np.cos(x0) * y0\n",
    "x1 = x0 + 0.1\n",
    "pontos.append((x1,y1))\n",
    "\n",
    "y2 = y1 + 0.1 * np.cos(x1) * y1\n",
    "x2 = x1 + 0.1\n",
    "pontos.append((x2,y2))\n",
    "\n",
    "y3 = y2 + 0.1 * np.cos(x2) * y2\n",
    "x3 = x2 + 0.1\n",
    "pontos.append((x3,y3))\n",
    "\n",
    "y4 = y3 + 0.1 * np.cos(x3) * y3\n",
    "x4 = x3 + 0.1\n",
    "pontos.append((x4,y4))\n",
    "\n",
    "y5 = y4 + 0.1 * np.cos(x4) * y4\n",
    "x5 = x4 + 0.1\n",
    "pontos.append((x5,y5))\n",
    "\n",
    "pontos"
   ]
  },
  {
   "cell_type": "code",
   "execution_count": 9,
   "metadata": {},
   "outputs": [
    {
     "data": {
      "text/plain": [
       "[(0, 1),\n",
       " (0.01, 1.01),\n",
       " (0.02, 1.0201),\n",
       " (0.03, 1.0303),\n",
       " (0.04, 1.0406),\n",
       " (0.05, 1.051),\n",
       " (0.06, 1.0615),\n",
       " (0.07, 1.0721),\n",
       " (0.08, 1.08279),\n",
       " (0.09, 1.09358),\n",
       " (0.1, 1.10447),\n",
       " (0.11, 1.11546),\n",
       " (0.12, 1.12655),\n",
       " (0.13, 1.13773),\n",
       " (0.14, 1.14901),\n",
       " (0.15, 1.16039),\n",
       " (0.16, 1.17186),\n",
       " (0.17, 1.18343),\n",
       " (0.18, 1.19509),\n",
       " (0.19, 1.20685),\n",
       " (0.2, 1.2187),\n",
       " (0.21, 1.23064),\n",
       " (0.22, 1.24268),\n",
       " (0.23, 1.25481),\n",
       " (0.24, 1.26703),\n",
       " (0.25, 1.27934),\n",
       " (0.26, 1.29174),\n",
       " (0.27, 1.30422),\n",
       " (0.28, 1.31679),\n",
       " (0.29, 1.32945),\n",
       " (0.3, 1.34219),\n",
       " (0.31, 1.35501),\n",
       " (0.32, 1.36791),\n",
       " (0.33, 1.38089),\n",
       " (0.34, 1.39395),\n",
       " (0.35, 1.40709),\n",
       " (0.36, 1.42031),\n",
       " (0.37, 1.4336),\n",
       " (0.38, 1.44697),\n",
       " (0.39, 1.46041),\n",
       " (0.4, 1.47392),\n",
       " (0.41, 1.4875),\n",
       " (0.42, 1.50114),\n",
       " (0.43, 1.51485),\n",
       " (0.44, 1.52862),\n",
       " (0.45, 1.54245),\n",
       " (0.46, 1.55634),\n",
       " (0.47, 1.57029),\n",
       " (0.48, 1.58429),\n",
       " (0.49, 1.59834),\n",
       " (0.5, 1.61244)]"
      ]
     },
     "execution_count": 9,
     "metadata": {},
     "output_type": "execute_result"
    }
   ],
   "source": [
    "ex4.euler()\n",
    "ex4.pontos"
   ]
  },
  {
   "attachments": {},
   "cell_type": "markdown",
   "metadata": {},
   "source": [
    "OK\n",
    "\n",
    "--------------\n",
    "\n",
    "Teste 5"
   ]
  },
  {
   "cell_type": "code",
   "execution_count": 10,
   "metadata": {},
   "outputs": [
    {
     "data": {
      "text/plain": [
       "[(0, 0),\n",
       " (0.1, 0.0),\n",
       " (0.2, 0.009983341664682815),\n",
       " (0.30000000000000004, 0.028851940577720656),\n",
       " (0.4, 0.05551876718608255),\n",
       " (0.5, 0.08890872469833935)]"
      ]
     },
     "execution_count": 10,
     "metadata": {},
     "output_type": "execute_result"
    }
   ],
   "source": [
    "ex5 = p.pvi((0,0), 0.1, (0,0.5), \"np.sin(x) - y\")\n",
    "\n",
    "''' vs '''\n",
    "\n",
    "x0, y0 = (0,0)\n",
    "\n",
    "pontos = [(x0,y0)]\n",
    "\n",
    "y1 = y0 + 0.1 * (np.sin(x0) - y0)\n",
    "x1 = x0 + 0.1\n",
    "pontos.append((x1,y1))\n",
    "\n",
    "y2 = y1 + 0.1 * (np.sin(x1) - y1)\n",
    "x2 = x1 + 0.1\n",
    "pontos.append((x2,y2))\n",
    "\n",
    "y3 = y2 + 0.1 * (np.sin(x2) - y2)\n",
    "x3 = x2 + 0.1\n",
    "pontos.append((x3,y3))\n",
    "\n",
    "y4 = y3 + 0.1 * (np.sin(x3) - y3)\n",
    "x4 = x3 + 0.1\n",
    "pontos.append((x4,y4))\n",
    "\n",
    "y5 = y4 + 0.1 * (np.sin(x4) - y4)\n",
    "x5 = x4 + 0.1\n",
    "pontos.append((x5,y5))\n",
    "\n",
    "pontos"
   ]
  },
  {
   "cell_type": "code",
   "execution_count": 11,
   "metadata": {},
   "outputs": [
    {
     "data": {
      "text/plain": [
       "[(0, 0),\n",
       " (0.1, 0.0),\n",
       " (0.2, 0.00998),\n",
       " (0.3, 0.02885),\n",
       " (0.4, 0.05552),\n",
       " (0.5, 0.08891)]"
      ]
     },
     "execution_count": 11,
     "metadata": {},
     "output_type": "execute_result"
    }
   ],
   "source": [
    "ex5.euler()\n",
    "ex5.pontos"
   ]
  },
  {
   "attachments": {},
   "cell_type": "markdown",
   "metadata": {},
   "source": [
    "OK\n",
    "\n",
    "--------------\n",
    "\n",
    "#### Testando o método de Runge Kutte\n",
    "\n",
    "Teste 1"
   ]
  },
  {
   "cell_type": "code",
   "execution_count": 12,
   "metadata": {},
   "outputs": [
    {
     "data": {
      "text/plain": [
       "[(0, 2),\n",
       " (0.1, 1.99734),\n",
       " (0.2, 1.97889),\n",
       " (0.3, 1.9305),\n",
       " (0.4, 1.84275),\n",
       " (0.5, 1.71428)]"
      ]
     },
     "execution_count": 12,
     "metadata": {},
     "output_type": "execute_result"
    }
   ],
   "source": [
    "ex1.rg4()\n",
    "ex1.pontos"
   ]
  },
  {
   "cell_type": "code",
   "execution_count": 13,
   "metadata": {},
   "outputs": [
    {
     "data": {
      "text/plain": [
       "[(0, 2),\n",
       " (0.1, 1.99734),\n",
       " (0.2, 1.97889),\n",
       " (0.3, 1.9305),\n",
       " (0.4, 1.84275),\n",
       " (0.5, 1.71428),\n",
       " (0.6, 1.55279)]"
      ]
     },
     "execution_count": 13,
     "metadata": {},
     "output_type": "execute_result"
    }
   ],
   "source": [
    "x0,y0 = (0,2)\n",
    "x, y = (0,2)\n",
    "\n",
    "pontos = [(0,2)]\n",
    "\n",
    "while x <= 0.5:\n",
    "    k1 = (-2) * (x0**2) * (y0**2)\n",
    "    k2 = (-2) * ((x0 + 0.05)**2) * ((y0 + 0.05*k1)**2)\n",
    "    k3 = (-2) * ((x0 + 0.05)**2) * ((y0 + 0.05*k2)**2)\n",
    "    k4 = (-2) * ((x0 + 0.1)**2) * ((y0 + 0.1*k3)**2)\n",
    "    y = y0 + (0.1/6) * (k1 + 2*k2 + 2*k3 + k4)\n",
    "    x = x0 + 0.1\n",
    "    pontos.append((round(x, 5), round(y, 5)))\n",
    "    x0 = x\n",
    "    y0 = y\n",
    "pontos"
   ]
  },
  {
   "attachments": {},
   "cell_type": "markdown",
   "metadata": {},
   "source": [
    "OK\n",
    "\n",
    "--------------\n",
    "\n",
    "Teste 2"
   ]
  },
  {
   "cell_type": "code",
   "execution_count": 14,
   "metadata": {},
   "outputs": [
    {
     "data": {
      "text/plain": [
       "[(1, 1),\n",
       " (1.1, 1.39232),\n",
       " (1.2, 2.07075),\n",
       " (1.3, 3.30942),\n",
       " (1.4, 5.71734),\n",
       " (1.5, 10.74022)]"
      ]
     },
     "execution_count": 14,
     "metadata": {},
     "output_type": "execute_result"
    }
   ],
   "source": [
    "x0, y0 = (1, 1)\n",
    "\n",
    "pontos = [(1,1)]\n",
    "\n",
    "\n",
    "while x <= 1.5:\n",
    "    k1 = 3 * (x0**2) * y0\n",
    "    k2 = 3 * ((x0 + 0.05)**2) * ((y0 + 0.05*k1))\n",
    "    k3 = 3 * ((x0 + 0.05)**2) * ((y0 + 0.05*k2))\n",
    "    k4 = 3 * ((x0 + 0.1)**2) * ((y0 + 0.1*k3))\n",
    "    y = y0 + (0.1/6) * (k1 + 2*k2 + 2*k3 + k4)\n",
    "    x = x0 + 0.1\n",
    "    pontos.append((round(x, 5), round(y, 5)))\n",
    "    x0 = x\n",
    "    y0 = y\n",
    "pontos"
   ]
  },
  {
   "cell_type": "code",
   "execution_count": 15,
   "metadata": {},
   "outputs": [
    {
     "data": {
      "text/plain": [
       "[(1, 1),\n",
       " (1.1, 1.39232),\n",
       " (1.2, 2.07074),\n",
       " (1.3, 3.30941),\n",
       " (1.4, 5.71732),\n",
       " (1.5, 10.74017)]"
      ]
     },
     "execution_count": 15,
     "metadata": {},
     "output_type": "execute_result"
    }
   ],
   "source": [
    "ex2.rg4()"
   ]
  },
  {
   "attachments": {},
   "cell_type": "markdown",
   "metadata": {},
   "source": [
    "PEQUENAS DIFERENÇAS\n",
    "\n",
    "--------------\n",
    "\n",
    "Teste 3"
   ]
  },
  {
   "cell_type": "code",
   "execution_count": 16,
   "metadata": {},
   "outputs": [
    {
     "data": {
      "text/plain": [
       "ponto inicial: (0, 1)\n",
       "passo: 0.1\n",
       "intervalo: (0, 0.5)\n",
       "equacao: -2 * x * y**3"
      ]
     },
     "execution_count": 16,
     "metadata": {},
     "output_type": "execute_result"
    }
   ],
   "source": [
    "ex3"
   ]
  },
  {
   "cell_type": "code",
   "execution_count": 17,
   "metadata": {},
   "outputs": [
    {
     "data": {
      "text/plain": [
       "[(0, 1),\n",
       " (0.1, 0.99174),\n",
       " (0.2, 0.96501),\n",
       " (0.3, 0.92384),\n",
       " (0.4, 0.87356),\n",
       " (0.5, 0.81918)]"
      ]
     },
     "execution_count": 17,
     "metadata": {},
     "output_type": "execute_result"
    }
   ],
   "source": [
    "x0, y0 = (0, 1)\n",
    "pontos = [(0,1)]\n",
    "\n",
    "while x0 < 0.5:\n",
    "    k1 = (-2) * x0 * y0**3\n",
    "    k2 = (-2) * (x0 + 0.05) * (y0 + 0.05*k1)**3\n",
    "    k3 = (-2) * (x0 + 0.05) * (y0 + 0.05*k2)**3\n",
    "    k4 = (-2) * (x0 + 0.05) * (y0 + 0.05*k3)**3\n",
    "    y = y0 + (0.1/6) * (k1 + 2*k2 + 2*k3 + k4)\n",
    "    x = x0 + 0.1\n",
    "    pontos.append((round(x, 5), round(y, 5)))\n",
    "    x0 = x\n",
    "    y0 = y\n",
    "\n",
    "pontos"
   ]
  },
  {
   "cell_type": "code",
   "execution_count": 18,
   "metadata": {},
   "outputs": [
    {
     "data": {
      "text/plain": [
       "[(0, 1),\n",
       " (0.1, 0.99015),\n",
       " (0.2, 0.96225),\n",
       " (0.3, 0.92057),\n",
       " (0.4, 0.87038),\n",
       " (0.5, 0.81649)]"
      ]
     },
     "execution_count": 18,
     "metadata": {},
     "output_type": "execute_result"
    }
   ],
   "source": [
    "ex3.rg4()"
   ]
  },
  {
   "attachments": {},
   "cell_type": "markdown",
   "metadata": {},
   "source": [
    "PEQUENAS DIFERENÇAS\n",
    "\n",
    "--------------\n",
    "\n",
    "Teste 4"
   ]
  },
  {
   "cell_type": "code",
   "execution_count": 19,
   "metadata": {},
   "outputs": [
    {
     "data": {
      "text/plain": [
       "ponto inicial: (0, 1)\n",
       "passo: 0.01\n",
       "intervalo: (0, 0.5)\n",
       "equacao: np.cos(x) * y"
      ]
     },
     "execution_count": 19,
     "metadata": {},
     "output_type": "execute_result"
    }
   ],
   "source": [
    "ex4"
   ]
  },
  {
   "cell_type": "code",
   "execution_count": 26,
   "metadata": {},
   "outputs": [
    {
     "data": {
      "text/plain": [
       "[(0, 1),\n",
       " (0.01, 1.00984),\n",
       " (0.02, 1.01999),\n",
       " (0.03, 1.03024),\n",
       " (0.04, 1.04059),\n",
       " (0.05, 1.05103),\n",
       " (0.06, 1.06158),\n",
       " (0.07, 1.07223),\n",
       " (0.08, 1.08297),\n",
       " (0.09, 1.09382),\n",
       " (0.1, 1.10476),\n",
       " (0.11, 1.1158),\n",
       " (0.12, 1.12694),\n",
       " (0.13, 1.13818),\n",
       " (0.14, 1.14951),\n",
       " (0.15, 1.16094),\n",
       " (0.16, 1.17247),\n",
       " (0.17, 1.18409),\n",
       " (0.18, 1.19581),\n",
       " (0.19, 1.20762),\n",
       " (0.2, 1.21953),\n",
       " (0.21, 1.23153),\n",
       " (0.22, 1.24362),\n",
       " (0.23, 1.2558),\n",
       " (0.24, 1.26807),\n",
       " (0.25, 1.28044),\n",
       " (0.26, 1.29289),\n",
       " (0.27, 1.30542),\n",
       " (0.28, 1.31805),\n",
       " (0.29, 1.33076),\n",
       " (0.3, 1.34355),\n",
       " (0.31, 1.35643),\n",
       " (0.32, 1.36939),\n",
       " (0.33, 1.38242),\n",
       " (0.34, 1.39554),\n",
       " (0.35, 1.40874),\n",
       " (0.36, 1.42201),\n",
       " (0.37, 1.43535),\n",
       " (0.38, 1.44877),\n",
       " (0.39, 1.46226),\n",
       " (0.4, 1.47582),\n",
       " (0.41, 1.48945),\n",
       " (0.42, 1.50314),\n",
       " (0.43, 1.5169),\n",
       " (0.44, 1.53072),\n",
       " (0.45, 1.54459),\n",
       " (0.46, 1.55853),\n",
       " (0.47, 1.57252),\n",
       " (0.48, 1.58657),\n",
       " (0.49, 1.60067),\n",
       " (0.5, 1.61482)]"
      ]
     },
     "execution_count": 26,
     "metadata": {},
     "output_type": "execute_result"
    }
   ],
   "source": [
    "# testes para ex4\n",
    "\n",
    "x0, y0 = (0,1)\n",
    "pontos = [(0,1)]\n",
    "\n",
    "while x0 < 0.5:\n",
    "    k1 = np.cos(x) * y0\n",
    "    k2 = np.cos(x0 + 0.005) * (y0 + 0.005*k1)\n",
    "    k3 = np.cos(x0 + 0.005) * (y0 + 0.005*k2)\n",
    "    k4 = np.cos(x0 + 0.01) * (y0 + 0.01*k3)\n",
    "    y = y0 + (0.01/6) * (k1 + 2*k2 + 2*k3 + k4)\n",
    "    x = x0 + 0.01\n",
    "    pontos.append((round(x, 5), round(y, 5)))\n",
    "    x0 = x\n",
    "    y0 = y\n",
    "\n",
    "pontos"
   ]
  },
  {
   "cell_type": "code",
   "execution_count": 25,
   "metadata": {},
   "outputs": [
    {
     "data": {
      "text/plain": [
       "[(0, 1),\n",
       " (0.01, 1.01005),\n",
       " (0.02, 1.0202),\n",
       " (0.03, 1.03045),\n",
       " (0.04, 1.0408),\n",
       " (0.05, 1.05125),\n",
       " (0.06, 1.0618),\n",
       " (0.07, 1.07245),\n",
       " (0.08, 1.0832),\n",
       " (0.09, 1.09405),\n",
       " (0.1, 1.105),\n",
       " (0.11, 1.11604),\n",
       " (0.12, 1.12718),\n",
       " (0.13, 1.13842),\n",
       " (0.14, 1.14976),\n",
       " (0.15, 1.16119),\n",
       " (0.16, 1.17272),\n",
       " (0.17, 1.18435),\n",
       " (0.18, 1.19607),\n",
       " (0.19, 1.20788),\n",
       " (0.2, 1.21979),\n",
       " (0.21, 1.23179),\n",
       " (0.22, 1.24388),\n",
       " (0.23, 1.25606),\n",
       " (0.24, 1.26833),\n",
       " (0.25, 1.28069),\n",
       " (0.26, 1.29314),\n",
       " (0.27, 1.30568),\n",
       " (0.28, 1.31831),\n",
       " (0.29, 1.33102),\n",
       " (0.3, 1.34382),\n",
       " (0.31, 1.3567),\n",
       " (0.32, 1.36966),\n",
       " (0.33, 1.3827),\n",
       " (0.34, 1.39582),\n",
       " (0.35, 1.40902),\n",
       " (0.36, 1.42229),\n",
       " (0.37, 1.43564),\n",
       " (0.38, 1.44906),\n",
       " (0.39, 1.46255),\n",
       " (0.4, 1.47611),\n",
       " (0.41, 1.48974),\n",
       " (0.42, 1.50344),\n",
       " (0.43, 1.5172),\n",
       " (0.44, 1.53102),\n",
       " (0.45, 1.5449),\n",
       " (0.46, 1.55884),\n",
       " (0.47, 1.57284),\n",
       " (0.48, 1.58689),\n",
       " (0.49, 1.60099),\n",
       " (0.5, 1.61514)]"
      ]
     },
     "execution_count": 25,
     "metadata": {},
     "output_type": "execute_result"
    }
   ],
   "source": [
    "ex4.rg4()"
   ]
  },
  {
   "attachments": {},
   "cell_type": "markdown",
   "metadata": {},
   "source": [
    "MUITA DIFERENÇA\n",
    "\n",
    "--------------\n",
    "\n",
    "Teste 5"
   ]
  },
  {
   "cell_type": "code",
   "execution_count": 22,
   "metadata": {},
   "outputs": [
    {
     "data": {
      "text/plain": [
       "ponto inicial: (0, 0)\n",
       "passo: 0.1\n",
       "intervalo: (0, 0.5)\n",
       "equacao: np.sin(x) - y"
      ]
     },
     "execution_count": 22,
     "metadata": {},
     "output_type": "execute_result"
    }
   ],
   "source": [
    "ex5"
   ]
  },
  {
   "attachments": {},
   "cell_type": "markdown",
   "metadata": {},
   "source": [
    "MUITA DIFERENÇA\n",
    "\n",
    "--------------"
   ]
  }
 ],
 "metadata": {
  "kernelspec": {
   "display_name": "Python 3",
   "language": "python",
   "name": "python3"
  },
  "language_info": {
   "codemirror_mode": {
    "name": "ipython",
    "version": 3
   },
   "file_extension": ".py",
   "mimetype": "text/x-python",
   "name": "python",
   "nbconvert_exporter": "python",
   "pygments_lexer": "ipython3",
   "version": "3.8.10"
  },
  "orig_nbformat": 4,
  "vscode": {
   "interpreter": {
    "hash": "916dbcbb3f70747c44a77c7bcd40155683ae19c65e1c03b4aa3499c5328201f1"
   }
  }
 },
 "nbformat": 4,
 "nbformat_minor": 2
}
