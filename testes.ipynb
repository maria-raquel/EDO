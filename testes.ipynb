{
 "cells": [
  {
   "cell_type": "code",
   "execution_count": 1,
   "metadata": {},
   "outputs": [],
   "source": [
    "import pvi_q1 as p"
   ]
  },
  {
   "cell_type": "code",
   "execution_count": 2,
   "metadata": {},
   "outputs": [],
   "source": [
    "ex3 = p.pvi((0,1), 0.1, (0,0.5), \"-2 * x * y**3\")\n",
    "ex4 = p.pvi((0,1), 0.1, (0,0.5), \"np.cos(x) * y\")\n",
    "ex4 = p.pvi((0,0), 0.1, (0,0.5), \"np.sin(x) - y\")"
   ]
  },
  {
   "attachments": {},
   "cell_type": "markdown",
   "metadata": {},
   "source": [
    "#### Testando método Euler\n",
    "\n",
    "Teste 1"
   ]
  },
  {
   "cell_type": "code",
   "execution_count": 3,
   "metadata": {},
   "outputs": [
    {
     "data": {
      "text/plain": [
       "[(0, 2),\n",
       " (0.1, 2.0),\n",
       " (0.2, 1.992),\n",
       " (0.30000000000000004, 1.960255488),\n",
       " (0.4, 1.891088659591786),\n",
       " (0.5, 1.7766497374018129)]"
      ]
     },
     "execution_count": 3,
     "metadata": {},
     "output_type": "execute_result"
    }
   ],
   "source": [
    "ex1 = p.pvi((0,2), 0.1, (0,0.5), \"-2 * (x**2) * (y**2)\")\n",
    "\n",
    "''' vs '''\n",
    "\n",
    "x0, y0 = (0,2)\n",
    "\n",
    "pontos = [(x0,y0)]\n",
    "\n",
    "y1 = y0 + 0.1 * (-2) * (x0**2) * (y0**2)\n",
    "x1 = x0 + 0.1\n",
    "pontos.append((x1,y1))\n",
    "\n",
    "y2 = y1 + 0.1 * (-2) * (x1**2) * (y1**2)\n",
    "x2 = x1 + 0.1\n",
    "pontos.append((x2,y2))\n",
    "\n",
    "y3 = y2 + 0.1 * (-2) * (x2**2) * (y2**2)\n",
    "x3 = x2 + 0.1\n",
    "pontos.append((x3,y3))\n",
    "\n",
    "y4 = y3 + 0.1 * (-2) * (x3**2) * (y3**2)\n",
    "x4 = x3 + 0.1\n",
    "pontos.append((x4,y4))\n",
    "\n",
    "y5 = y4 + 0.1 * (-2) * (x4**2) * (y4**2)\n",
    "x5 = x4 + 0.1\n",
    "pontos.append((x5,y5))\n",
    "\n",
    "pontos"
   ]
  },
  {
   "cell_type": "code",
   "execution_count": 4,
   "metadata": {},
   "outputs": [
    {
     "data": {
      "text/plain": [
       "[(0, 2),\n",
       " (0.1, 2.0),\n",
       " (0.2, 1.992),\n",
       " (0.30000000000000004, 1.960255488),\n",
       " (0.4, 1.891088659591786),\n",
       " (0.5, 1.7766497374018129)]"
      ]
     },
     "execution_count": 4,
     "metadata": {},
     "output_type": "execute_result"
    }
   ],
   "source": [
    "ex1.euler()\n",
    "ex1.pontos"
   ]
  },
  {
   "attachments": {},
   "cell_type": "markdown",
   "metadata": {},
   "source": [
    "OK\n",
    "\n",
    "--------------\n",
    "\n",
    "Teste 2"
   ]
  },
  {
   "cell_type": "code",
   "execution_count": 5,
   "metadata": {},
   "outputs": [
    {
     "data": {
      "text/plain": [
       "[(1, 1),\n",
       " (1.1, 1.3),\n",
       " (1.2000000000000002, 1.7719000000000003),\n",
       " (1.3000000000000003, 2.5373608000000005),\n",
       " (1.4000000000000004, 3.823802725600001),\n",
       " (1.5000000000000004, 6.072198728252803)]"
      ]
     },
     "execution_count": 5,
     "metadata": {},
     "output_type": "execute_result"
    }
   ],
   "source": [
    "ex2 = p.pvi((1,1), 0.1, (1,1.5), \"3 * (x**2) * y\")\n",
    "\n",
    "''' vs '''\n",
    "\n",
    "x0, y0 = (1,1)\n",
    "\n",
    "pontos = [(x0,y0)]\n",
    "\n",
    "y1 = y0 + 0.1 * 3 * (x0**2) * y0\n",
    "x1 = x0 + 0.1\n",
    "pontos.append((x1,y1))\n",
    "\n",
    "y2 = y1 + 0.1 * 3 * (x1**2) * y1\n",
    "x2 = x1 + 0.1\n",
    "pontos.append((x2,y2))\n",
    "\n",
    "y3 = y2 + 0.1 * 3 * (x2**2) * y2\n",
    "x3 = x2 + 0.1\n",
    "pontos.append((x3,y3))\n",
    "\n",
    "y4 = y3 + 0.1 * 3 * (x3**2) * y3\n",
    "x4 = x3 + 0.1\n",
    "pontos.append((x4,y4))\n",
    "\n",
    "y5 = y4 + 0.1 * 3 * (x4**2) * y4\n",
    "x5 = x4 + 0.1\n",
    "pontos.append((x5,y5))\n",
    "\n",
    "pontos"
   ]
  },
  {
   "cell_type": "code",
   "execution_count": 10,
   "metadata": {},
   "outputs": [
    {
     "data": {
      "text/plain": [
       "[(1, 1),\n",
       " (1.1, 1.3),\n",
       " (1.2000000000000002, 1.7719000000000003),\n",
       " (1.3000000000000003, 2.5373608000000005),\n",
       " (1.4000000000000004, 3.8238027256000016)]"
      ]
     },
     "execution_count": 10,
     "metadata": {},
     "output_type": "execute_result"
    }
   ],
   "source": [
    "ex2.euler()\n",
    "ex2.pontos"
   ]
  }
 ],
 "metadata": {
  "kernelspec": {
   "display_name": "Python 3",
   "language": "python",
   "name": "python3"
  },
  "language_info": {
   "codemirror_mode": {
    "name": "ipython",
    "version": 3
   },
   "file_extension": ".py",
   "mimetype": "text/x-python",
   "name": "python",
   "nbconvert_exporter": "python",
   "pygments_lexer": "ipython3",
   "version": "3.8.10"
  },
  "orig_nbformat": 4,
  "vscode": {
   "interpreter": {
    "hash": "916dbcbb3f70747c44a77c7bcd40155683ae19c65e1c03b4aa3499c5328201f1"
   }
  }
 },
 "nbformat": 4,
 "nbformat_minor": 2
}
